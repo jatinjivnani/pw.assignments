{
 "cells": [
  {
   "cell_type": "code",
   "execution_count": null,
   "id": "7a6b7fd2-015e-4102-9e06-1453de29c303",
   "metadata": {},
   "outputs": [],
   "source": [
    "# Q1. Create one variable containing following type of data:\n",
    "# (i) string  \n",
    "name=\"jatin\"\n",
    "# (ii) list\n",
    "fruits=[\"apple\",\"mango\", \"orange\",\"banana\"]\n",
    "# (iii) float \n",
    "n=5.0\n",
    "# (iv) tuple  \n",
    "a=(1,2,3,4,5,6,7)\n"
   ]
  },
  {
   "cell_type": "markdown",
   "id": "878f6b30-f42c-4901-9676-6bcec7265d3b",
   "metadata": {},
   "source": [
    "Q2. Given are some following variables containing data:\n",
    "(i) var1 = ‘ ‘    \n",
    "(ii) var2 = ‘[ DS , ML , Python]’  \n",
    "(iii) var3 = [ ‘DS’ , ’ML’ , ‘Python’ ] \n",
    "(iv) var4 = 1.\n",
    "What will be the data type of the above given variable.\n",
    "ans:-\n",
    "var1=string\n",
    "var2=string\n",
    "var3-list\n",
    "var4=int\n",
    "\n",
    "\n"
   ]
  },
  {
   "cell_type": "code",
   "execution_count": null,
   "id": "973cd312-9f06-4c24-99da-dfd04db2f0d6",
   "metadata": {},
   "outputs": [],
   "source": []
  },
  {
   "cell_type": "markdown",
   "id": "d14eb6db-422c-41bc-a141-37a0f6143a0f",
   "metadata": {},
   "source": [
    "\n",
    "Q3. Explain the use of the following operators using an example:\n",
    "\n",
    "ans:-\n",
    "(i) /  division operators  ex:10/2=5\n",
    "(ii) %  modulus operator  ex:10%2=0\n",
    "(iii) // floor division  ex: 11//2=5\n",
    "(iv) **  exponential operator ex:10**2=100\n",
    "\n"
   ]
  },
  {
   "cell_type": "code",
   "execution_count": 19,
   "id": "d09d3b8c-494e-4ef8-aefb-e16112432bcc",
   "metadata": {},
   "outputs": [
    {
     "name": "stdout",
     "output_type": "stream",
     "text": [
      "1\n",
      "<class 'int'>\n",
      "3\n",
      "<class 'int'>\n",
      "2\n",
      "<class 'int'>\n",
      "3\n",
      "<class 'int'>\n",
      "4\n",
      "<class 'int'>\n",
      "5\n",
      "<class 'int'>\n",
      "apple\n",
      "<class 'str'>\n",
      "True\n",
      "<class 'bool'>\n",
      "(5+8j)\n",
      "<class 'complex'>\n",
      "9.1\n",
      "<class 'float'>\n",
      "10\n",
      "<class 'int'>\n"
     ]
    }
   ],
   "source": [
    "# Q4. Create a list of length 10 of your choice containing multiple types of data. Using for loop print the\n",
    "# element and its data type.\n",
    "\n",
    "list1=[1,3,2,3,4,5,\"apple\",True,5+8j,9.1,10]\n",
    "for i in list1:\n",
    "    print(i)\n",
    "    print(type(i))\n"
   ]
  },
  {
   "cell_type": "code",
   "execution_count": 21,
   "id": "50a97112-a9ba-4bde-bc84-da64851b1f70",
   "metadata": {},
   "outputs": [
    {
     "name": "stdout",
     "output_type": "stream",
     "text": [
      "7\n"
     ]
    }
   ],
   "source": [
    "# Q5. Using a while loop, verify if the number A is purely divisible by number B and if so then how many\n",
    "# times it can be divisible.\n",
    "\n",
    "num1=128\n",
    "num2=2\n",
    "i=0\n",
    "while num1%num2==0:\n",
    "    i=i+1\n",
    "    num1=num1//2\n",
    "print(i)\n",
    "    \n",
    "    "
   ]
  },
  {
   "cell_type": "code",
   "execution_count": 25,
   "id": "e0684219-fc9f-4233-b36d-349f92cf32d9",
   "metadata": {},
   "outputs": [
    {
     "name": "stdout",
     "output_type": "stream",
     "text": [
      "0\n",
      "3\n",
      "6\n",
      "9\n",
      "12\n",
      "15\n",
      "18\n",
      "21\n",
      "24\n"
     ]
    }
   ],
   "source": [
    "\n",
    "# Q6. Create a list containing 25 int type data. Using for loop and if-else condition print if the element is\n",
    "# divisible by 3 or not.\n",
    "\n",
    "a=[]\n",
    "for i in range(25):\n",
    "    a.append(i)\n",
    "for i in a:\n",
    "    if i%3==0:\n",
    "        print(i)"
   ]
  },
  {
   "cell_type": "markdown",
   "id": "bfeeffc8-d571-45b0-92af-fe4b15310df2",
   "metadata": {},
   "source": [
    " Q7. What do you understand about mutable and immutable data types? Give examples for both showing\n",
    " this property.\n",
    "\n",
    "immutable data type\n",
    "an immutable object can’t be changed after it is created. \n",
    "ex=int, float, string,tuple\n",
    "\n",
    "mutable data type\n",
    "\n",
    "an mutable object can be changed after it is created.\n",
    "ex=list, dict, set.\n",
    "\n"
   ]
  }
 ],
 "metadata": {
  "kernelspec": {
   "display_name": "Python 3 (ipykernel)",
   "language": "python",
   "name": "python3"
  },
  "language_info": {
   "codemirror_mode": {
    "name": "ipython",
    "version": 3
   },
   "file_extension": ".py",
   "mimetype": "text/x-python",
   "name": "python",
   "nbconvert_exporter": "python",
   "pygments_lexer": "ipython3",
   "version": "3.10.8"
  }
 },
 "nbformat": 4,
 "nbformat_minor": 5
}
