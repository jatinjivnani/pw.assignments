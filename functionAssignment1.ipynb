{
 "cells": [
  {
   "cell_type": "markdown",
   "id": "c629f41e-80e1-45a0-afd8-a2304b7774ae",
   "metadata": {},
   "source": [
    "Q1.Which keyword is used to create a function? Create a function to return a list of odd numbers in the\n",
    "range of 1 to 25.\n",
    "\n",
    "ans:\n",
    "def keyword is used to create a function\n"
   ]
  },
  {
   "cell_type": "code",
   "execution_count": 2,
   "id": "5a548185-762a-465c-b1eb-93656a6b8412",
   "metadata": {},
   "outputs": [
    {
     "name": "stdout",
     "output_type": "stream",
     "text": [
      "1\n",
      "3\n",
      "5\n",
      "7\n",
      "9\n",
      "11\n",
      "13\n",
      "15\n",
      "17\n",
      "19\n",
      "21\n",
      "23\n"
     ]
    }
   ],
   "source": [
    "def odd(num):\n",
    "    for i in range(1,num):\n",
    "        if i%2==1:\n",
    "            print(i)\n",
    "a=odd(25)\n"
   ]
  },
  {
   "cell_type": "code",
   "execution_count": null,
   "id": "1eea6b63-eae9-41b4-bde6-9db00bf36b2d",
   "metadata": {},
   "outputs": [],
   "source": []
  },
  {
   "cell_type": "markdown",
   "id": "112a9408-a041-42a1-9ecf-18aa860e0751",
   "metadata": {},
   "source": [
    "Q2.Why *args and **kwargs is used in some functions? Create a function each for *args and **kwargs\n",
    "to demonstrate their use.\n",
    "\n",
    "ans:-\n",
    "Python has *args which allow us to pass the variable number of non keyword arguments to function.like tuple\n",
    "it allows us to pass the variable length of keyword arguments to the function.like dict"
   ]
  },
  {
   "cell_type": "code",
   "execution_count": 10,
   "id": "0acaf7a8-b3fe-40dd-a012-e690e4a352d0",
   "metadata": {},
   "outputs": [
    {
     "name": "stdout",
     "output_type": "stream",
     "text": [
      "Sum: 45\n",
      "{'a': 'data science', 'b': 'web dev'}\n"
     ]
    }
   ],
   "source": [
    "def adder(*num):\n",
    "    sum = 0\n",
    "    \n",
    "    for n in num:\n",
    "        sum = sum + n\n",
    "\n",
    "    print(\"Sum:\",sum)\n",
    "a=adder(1,2,3,4,5,6,7,8,9)\n",
    "\n",
    "def student(**data):\n",
    "     print(data)\n",
    "b=student(a=\"data science\",b=\"web dev\")"
   ]
  },
  {
   "cell_type": "code",
   "execution_count": null,
   "id": "9d494259-293b-4951-8394-6f1dc2bc1232",
   "metadata": {},
   "outputs": [],
   "source": []
  },
  {
   "cell_type": "markdown",
   "id": "0f4693bb-73c1-40d9-9ded-24e8d149ae94",
   "metadata": {},
   "source": [
    "Q3.What is an iterator in python? Name the method used to initialise the iterator object and the method\n",
    "used for iteration. Use these methods to print the first five elements of the given list [2, 4, 6, 8, 10, 12, 14,\n",
    "16, 18, 20].\n",
    "\n",
    "\n",
    "\n",
    "Ans:-\n",
    "An iterator is an object in Python that iterates over the elements of an iterable object such as a list, tuple, or string."
   ]
  },
  {
   "cell_type": "code",
   "execution_count": 1,
   "id": "db519d1b-6be4-466f-9012-90ed3324997c",
   "metadata": {},
   "outputs": [
    {
     "name": "stdout",
     "output_type": "stream",
     "text": [
      "2\n",
      "4\n",
      "6\n",
      "8\n",
      "10\n"
     ]
    }
   ],
   "source": [
    "my_list = [2, 4, 6, 8, 10, 12, 14, 16, 18, 20]\n",
    "my_iter = iter(my_list)\n",
    "\n",
    "for i in range(5):\n",
    "    print(next(my_iter))\n"
   ]
  },
  {
   "cell_type": "code",
   "execution_count": null,
   "id": "6fb842eb-04f8-4192-999a-7fa14b4f5345",
   "metadata": {},
   "outputs": [],
   "source": []
  },
  {
   "cell_type": "markdown",
   "id": "70726a6a-cd8e-47a3-bc17-117afb8a9301",
   "metadata": {},
   "source": [
    "Q4.What is a generator function in python? Why yield keyword is used? Give an example of a generator\n",
    "function.\n",
    "\n",
    "\n",
    "ans:-\n",
    "\n",
    "A generator function is a special type of function in Python that returns an iterator. It uses the yield keyword to return values one at a time, instead of returning all the values at once like a normal function.\n",
    "function."
   ]
  },
  {
   "cell_type": "code",
   "execution_count": 2,
   "id": "ccf1a8f1-f2c6-473c-98d2-587ac3216880",
   "metadata": {},
   "outputs": [
    {
     "name": "stdout",
     "output_type": "stream",
     "text": [
      "0\n",
      "1\n",
      "1\n",
      "2\n",
      "3\n"
     ]
    }
   ],
   "source": [
    "def fibonacci(n):\n",
    "    a, b = 0, 1\n",
    "    for _ in range(n):\n",
    "        yield a\n",
    "        a, b = b, a + b\n",
    "\n",
    "for i in fibonacci(5):\n",
    "    print(i)\n"
   ]
  },
  {
   "cell_type": "code",
   "execution_count": null,
   "id": "7d4ef827-bc3d-4217-8269-fd8deaf3a3f9",
   "metadata": {},
   "outputs": [],
   "source": []
  },
  {
   "cell_type": "markdown",
   "id": "2a7030ad-22dc-41bd-8a0d-02862c9e30e4",
   "metadata": {},
   "source": [
    "Q5. Create a generator function for prime numbers less than 1000. Use the next() method to print the\n",
    "first 20 prime numbers."
   ]
  },
  {
   "cell_type": "code",
   "execution_count": 3,
   "id": "546fad3b-e537-40fb-bc2e-92c061faccd6",
   "metadata": {},
   "outputs": [
    {
     "name": "stdout",
     "output_type": "stream",
     "text": [
      "2\n",
      "3\n",
      "5\n",
      "7\n",
      "11\n",
      "13\n",
      "17\n",
      "19\n",
      "23\n",
      "29\n",
      "31\n",
      "37\n",
      "41\n",
      "43\n",
      "47\n",
      "53\n",
      "59\n",
      "61\n",
      "67\n",
      "71\n"
     ]
    }
   ],
   "source": [
    "def prime_generator():\n",
    "    for num in range(2, 1000):\n",
    "        for i in range(2, num):\n",
    "            if num % i == 0:\n",
    "                break\n",
    "        else:\n",
    "            yield num\n",
    "\n",
    "prime_gen = prime_generator()\n",
    "for _ in range(20):\n",
    "    print(next(prime_gen))\n"
   ]
  },
  {
   "cell_type": "code",
   "execution_count": null,
   "id": "408b1e80-a29f-44bc-b902-ba969b486403",
   "metadata": {},
   "outputs": [],
   "source": []
  },
  {
   "cell_type": "markdown",
   "id": "f40092fb-6e61-4dc5-aac8-f4b1b68c29d0",
   "metadata": {},
   "source": [
    "Q6. Write a python program to print the first 10 Fibonacci numbers using a while loop."
   ]
  },
  {
   "cell_type": "code",
   "execution_count": 10,
   "id": "e8d803fa-98d1-4241-9e50-afdda9295478",
   "metadata": {},
   "outputs": [
    {
     "name": "stdout",
     "output_type": "stream",
     "text": [
      "1\n",
      "2\n",
      "3\n",
      "5\n",
      "8\n",
      "13\n",
      "21\n",
      "34\n",
      "55\n",
      "89\n"
     ]
    }
   ],
   "source": [
    "x=10\n",
    "i=0\n",
    "a=0\n",
    "b=1\n",
    "while i<x:\n",
    "    print(a+b)\n",
    "    a,b=b,a+b\n",
    "    i=i+1\n",
    "    \n",
    "    "
   ]
  },
  {
   "cell_type": "code",
   "execution_count": null,
   "id": "61f803c7-ac6a-47df-877e-dc16768850e1",
   "metadata": {},
   "outputs": [],
   "source": []
  },
  {
   "cell_type": "markdown",
   "id": "6d64581b-8eaa-4ce6-80d3-81f47a5171c5",
   "metadata": {},
   "source": [
    "Q7. Write a List Comprehension to iterate through the given string: ‘pwskills’.\n",
    "Expected output: ['p', 'w', 's', 'k', 'i', 'l', 'l', 's']"
   ]
  },
  {
   "cell_type": "code",
   "execution_count": 12,
   "id": "b82c2399-2bd6-457c-8156-1158befac49b",
   "metadata": {},
   "outputs": [
    {
     "name": "stdout",
     "output_type": "stream",
     "text": [
      "['p', 'w', 's', 'k', 'i', 'l', 'l', 's']\n"
     ]
    }
   ],
   "source": [
    "my_string = 'pwskills'\n",
    "result = [i for i in my_string]\n",
    "print(result)\n"
   ]
  },
  {
   "cell_type": "code",
   "execution_count": null,
   "id": "b8419855-4ca2-40dc-87a0-adcd909ca218",
   "metadata": {},
   "outputs": [],
   "source": []
  },
  {
   "cell_type": "markdown",
   "id": "47ee2330-36d6-45a5-a440-0a2b75e1af6a",
   "metadata": {},
   "source": [
    "Q8.Write a python program to check whether a given number is Palindrome or not using a while loop.\n",
    "\n",
    " "
   ]
  },
  {
   "cell_type": "code",
   "execution_count": 18,
   "id": "5fd8b0b4-4c62-40b4-b3f8-6389148dbb1f",
   "metadata": {},
   "outputs": [
    {
     "name": "stdout",
     "output_type": "stream",
     "text": [
      "True\n",
      "True\n",
      "False\n"
     ]
    }
   ],
   "source": [
    "def is_palindrome(a):\n",
    "    b=a\n",
    "    x=0\n",
    "    while a>0:\n",
    "        y=a%10\n",
    "        x=x*10+y\n",
    "        a=a//10\n",
    "    if b==x:\n",
    "        return True\n",
    "    else:\n",
    "        return False\n",
    "print(is_palindrome(1331))\n",
    "print(is_palindrome(121))\n",
    "print(is_palindrome(1234))"
   ]
  },
  {
   "cell_type": "code",
   "execution_count": null,
   "id": "6c8e99cf-1adc-4962-a113-20f778efbb70",
   "metadata": {},
   "outputs": [],
   "source": []
  },
  {
   "cell_type": "markdown",
   "id": "c55014c5-564e-4bbd-b9c0-fe00d8356277",
   "metadata": {},
   "source": [
    "Q9. Write a code to print odd numbers from 1 to 100 using list comprehension.\n"
   ]
  },
  {
   "cell_type": "code",
   "execution_count": 20,
   "id": "62b29186-274e-416c-9233-7f02fa6520fd",
   "metadata": {},
   "outputs": [
    {
     "name": "stdout",
     "output_type": "stream",
     "text": [
      "1\n",
      "3\n",
      "5\n",
      "7\n",
      "9\n",
      "11\n",
      "13\n",
      "15\n",
      "17\n",
      "19\n",
      "21\n",
      "23\n",
      "25\n",
      "27\n",
      "29\n",
      "31\n",
      "33\n",
      "35\n",
      "37\n",
      "39\n",
      "41\n",
      "43\n",
      "45\n",
      "47\n",
      "49\n",
      "51\n",
      "53\n",
      "55\n",
      "57\n",
      "59\n",
      "61\n",
      "63\n",
      "65\n",
      "67\n",
      "69\n",
      "71\n",
      "73\n",
      "75\n",
      "77\n",
      "79\n",
      "81\n",
      "83\n",
      "85\n",
      "87\n",
      "89\n",
      "91\n",
      "93\n",
      "95\n",
      "97\n",
      "99\n"
     ]
    }
   ],
   "source": [
    "n=100\n",
    "def odd(n):\n",
    "    a=[i for i in range(n)]\n",
    "    b=[print(i) for i in a if i%2==1]\n",
    "\n",
    "odd(n)"
   ]
  },
  {
   "cell_type": "code",
   "execution_count": null,
   "id": "c972346e-0a73-46ad-b7df-108c607c48f5",
   "metadata": {},
   "outputs": [],
   "source": []
  }
 ],
 "metadata": {
  "kernelspec": {
   "display_name": "Python 3 (ipykernel)",
   "language": "python",
   "name": "python3"
  },
  "language_info": {
   "codemirror_mode": {
    "name": "ipython",
    "version": 3
   },
   "file_extension": ".py",
   "mimetype": "text/x-python",
   "name": "python",
   "nbconvert_exporter": "python",
   "pygments_lexer": "ipython3",
   "version": "3.10.8"
  }
 },
 "nbformat": 4,
 "nbformat_minor": 5
}
