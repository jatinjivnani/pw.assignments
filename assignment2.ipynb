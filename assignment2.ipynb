{
 "cells": [
  {
   "cell_type": "markdown",
   "id": "8b172706-f4a3-4458-a15f-3673cc32d72e",
   "metadata": {},
   "source": [
    "How do you comment code in Python? What are the different types of comments?\n",
    "ans:-\n",
    "In Python, we can comment your code using the `#` symbol. This is called an inline comment and is used to explain a single line of code. \n",
    "\n",
    "we can also use triple quotes (`\"\"\"` or `'''`) to create a multiple line comment. \n",
    "\n"
   ]
  },
  {
   "cell_type": "code",
   "execution_count": null,
   "id": "c1f70aa2-e0fe-4bd6-bad0-369b12fa606c",
   "metadata": {},
   "outputs": [],
   "source": [
    "#this is a inline comment or single line comment\n",
    "\"\"\"\n",
    "this is multiple line comment\n",
    "\"\"\""
   ]
  },
  {
   "cell_type": "code",
   "execution_count": null,
   "id": "14431a3c-18c4-4b23-bf50-8db34a1dd95b",
   "metadata": {},
   "outputs": [],
   "source": []
  },
  {
   "cell_type": "markdown",
   "id": "44e76a0f-fe03-44e8-ad65-3abda27be175",
   "metadata": {},
   "source": [
    "Q2. What are variables in Python? How do you declare and assign values to variables?\n",
    "\n",
    "ans:-a variable is a named location used to store data in memory. It is helpful to think of variables as containers that hold information. we can declare and assign values to variables using the = operator.\n",
    "\n",
    "example:\n",
    "x=10\n",
    "y=\"hello\"\n",
    "z=10.9\n",
    "x=3+4j"
   ]
  },
  {
   "cell_type": "code",
   "execution_count": 11,
   "id": "841436e5-c136-4d1c-bb24-807a95780b12",
   "metadata": {},
   "outputs": [],
   "source": [
    "x=10\n",
    "y=\"hello\"\n",
    "z=10.9\n",
    "x=3+4j"
   ]
  },
  {
   "cell_type": "code",
   "execution_count": null,
   "id": "dddc5117-a696-4792-ae1d-f0a1f7c2e7d1",
   "metadata": {},
   "outputs": [],
   "source": []
  },
  {
   "cell_type": "markdown",
   "id": "13fc565b-fcb9-43f4-9028-237efcaffda3",
   "metadata": {},
   "source": [
    "Q3.How do you convert one data type to another in Python?\n",
    "ans:-\n",
    "we can convert one data type to another using built in functions such as int(),float()and Str()\n",
    "ex:-"
   ]
  },
  {
   "cell_type": "code",
   "execution_count": 14,
   "id": "ba6d0b67-9b5c-48d6-8a9a-374cda8facf6",
   "metadata": {},
   "outputs": [
    {
     "name": "stdout",
     "output_type": "stream",
     "text": [
      "<class 'int'>\n",
      "<class 'str'>\n",
      "<class 'float'>\n"
     ]
    }
   ],
   "source": [
    "a=5\n",
    "print(type(a))\n",
    "print(type(str(a)))\n",
    "print(type(float(a)))"
   ]
  },
  {
   "cell_type": "code",
   "execution_count": null,
   "id": "78b4dbe3-83cb-4c3b-861d-8cb8eee282a8",
   "metadata": {},
   "outputs": [],
   "source": []
  },
  {
   "cell_type": "markdown",
   "id": "f0b839c2-b091-4376-96d9-9e5d6375cc30",
   "metadata": {},
   "source": [
    "Q4.How do you write and execute a Python script from the command line?\n",
    "ans:-\n",
    "To execute the script from the command line, we need to have Python installed on our computer. we can then navigate to the directory where our script is located using the cd command and run the script using the python command followed by the name of our script. For example:\n",
    "cd/path/to/script python myscript.py\n"
   ]
  },
  {
   "cell_type": "code",
   "execution_count": null,
   "id": "303798f5-50a1-4c02-8782-d20afbe812b2",
   "metadata": {},
   "outputs": [],
   "source": []
  },
  {
   "cell_type": "markdown",
   "id": "24ab4e46-e0f0-4792-999c-71494c7c8da9",
   "metadata": {},
   "source": [
    "Q5.Given a list my_list = [1, 2, 3, 4, 5], write the code to slice the list and obtain the sub-list [2, 3].\n"
   ]
  },
  {
   "cell_type": "code",
   "execution_count": 4,
   "id": "21bcaf3c-cb0a-4740-8c86-a7a359f9b0e3",
   "metadata": {},
   "outputs": [
    {
     "name": "stdout",
     "output_type": "stream",
     "text": [
      "[2, 3]\n"
     ]
    }
   ],
   "source": [
    "#ans:-\n",
    "a=[1,2,3,4,5]\n",
    "print(a[1:3])"
   ]
  },
  {
   "cell_type": "code",
   "execution_count": null,
   "id": "716a4cf2-3f59-4cde-84b4-ae7f2abc54e4",
   "metadata": {},
   "outputs": [],
   "source": []
  },
  {
   "cell_type": "markdown",
   "id": "5cb8646d-553e-4ef7-839e-d3221811d16a",
   "metadata": {},
   "source": [
    "Q6. What is a complex number in mathematics, and how is it represented in Python?\n",
    "ans:-\n",
    "Complex Numbers are the numbers of the form (a + i b) where a & b are the real numbers and i is an imaginary unit called iota that represents √-1.\n",
    "\n",
    "in python it is represented as:\n",
    "a+bj\n",
    "ex=5+7j"
   ]
  },
  {
   "cell_type": "code",
   "execution_count": 12,
   "id": "0dbeed27-b89a-4e9f-a157-bb10fda0c850",
   "metadata": {},
   "outputs": [],
   "source": [
    "ex=5+7j"
   ]
  },
  {
   "cell_type": "code",
   "execution_count": null,
   "id": "55b58b66-de6a-4707-bef8-a292d7a85e1d",
   "metadata": {},
   "outputs": [],
   "source": []
  },
  {
   "cell_type": "markdown",
   "id": "e459a036-2cbf-4d47-a048-f85357778cfa",
   "metadata": {},
   "source": [
    "Q7. What is the correct way to declare a variable named age and assign the value 25 to it?"
   ]
  },
  {
   "cell_type": "code",
   "execution_count": 13,
   "id": "e4725aa0-c852-4850-aee0-f837efd72e77",
   "metadata": {},
   "outputs": [],
   "source": [
    "#ans:-\n",
    "age=25"
   ]
  },
  {
   "cell_type": "markdown",
   "id": "bdf4f06b-e0ea-4d98-af10-101334203635",
   "metadata": {},
   "source": [
    "Q8.Declare a variable named price and assign the value 9.99 to it. What data type does this variable\n",
    "belong to?\n",
    "it has float data type"
   ]
  },
  {
   "cell_type": "code",
   "execution_count": 6,
   "id": "a2ed0763-7155-4eff-a484-62537c0bde5c",
   "metadata": {},
   "outputs": [
    {
     "data": {
      "text/plain": [
       "float"
      ]
     },
     "execution_count": 6,
     "metadata": {},
     "output_type": "execute_result"
    }
   ],
   "source": [
    "#ans:-\n",
    "price=9.99\n",
    "type(price)"
   ]
  },
  {
   "cell_type": "code",
   "execution_count": null,
   "id": "63b7aade-7ca1-439f-b28f-babb80718849",
   "metadata": {},
   "outputs": [],
   "source": [
    "\n"
   ]
  },
  {
   "cell_type": "markdown",
   "id": "b0e4fe58-2acc-4b38-9809-5f48936b9630",
   "metadata": {},
   "source": [
    "Q9.Create a variable named name and assign your full name to it as a string. How would you print the\n",
    "value of this variable?"
   ]
  },
  {
   "cell_type": "code",
   "execution_count": 7,
   "id": "156a974c-af5b-41ea-8eac-b2f0f051de89",
   "metadata": {},
   "outputs": [
    {
     "name": "stdout",
     "output_type": "stream",
     "text": [
      "Jatin Jivnani\n"
     ]
    }
   ],
   "source": [
    "# ans:-\n",
    "name=\"Jatin Jivnani\"\n",
    "print(name)"
   ]
  },
  {
   "cell_type": "code",
   "execution_count": null,
   "id": "49e72eb3-049f-4645-ac1f-04579f00efa5",
   "metadata": {},
   "outputs": [],
   "source": []
  },
  {
   "cell_type": "markdown",
   "id": "970586c7-eb3b-4b9e-8187-2e772125170e",
   "metadata": {},
   "source": [
    "Q10. Given the string \"Hello, World!\", extract the substring \"World\".\n"
   ]
  },
  {
   "cell_type": "code",
   "execution_count": 9,
   "id": "a1a75fcf-a5f0-48db-9840-001fba9f1ebd",
   "metadata": {},
   "outputs": [
    {
     "name": "stdout",
     "output_type": "stream",
     "text": [
      " World\n"
     ]
    }
   ],
   "source": [
    "#ans:-\n",
    "a=\"Hello, World!\"\n",
    "print(a[6:12])"
   ]
  },
  {
   "cell_type": "code",
   "execution_count": null,
   "id": "87d90e2a-8766-4465-bd88-ea1bf98861f6",
   "metadata": {},
   "outputs": [],
   "source": []
  },
  {
   "cell_type": "markdown",
   "id": "edaae1df-721e-490c-81c6-c5e4f4d41791",
   "metadata": {},
   "source": [
    "Q11.Create a variable named \"is_student\" and assign it a boolean value indicating whether you are\n",
    "currently a student or not."
   ]
  },
  {
   "cell_type": "code",
   "execution_count": 10,
   "id": "03cf4829-d463-4f04-8b94-a2d0eb21c6cf",
   "metadata": {},
   "outputs": [
    {
     "name": "stdout",
     "output_type": "stream",
     "text": [
      "True\n"
     ]
    }
   ],
   "source": [
    "is_student=True\n",
    "print(is_student)"
   ]
  },
  {
   "cell_type": "code",
   "execution_count": null,
   "id": "d52768cc-7997-439a-aad3-9f981a489ad5",
   "metadata": {},
   "outputs": [],
   "source": []
  }
 ],
 "metadata": {
  "kernelspec": {
   "display_name": "Python 3 (ipykernel)",
   "language": "python",
   "name": "python3"
  },
  "language_info": {
   "codemirror_mode": {
    "name": "ipython",
    "version": 3
   },
   "file_extension": ".py",
   "mimetype": "text/x-python",
   "name": "python",
   "nbconvert_exporter": "python",
   "pygments_lexer": "ipython3",
   "version": "3.10.8"
  }
 },
 "nbformat": 4,
 "nbformat_minor": 5
}
